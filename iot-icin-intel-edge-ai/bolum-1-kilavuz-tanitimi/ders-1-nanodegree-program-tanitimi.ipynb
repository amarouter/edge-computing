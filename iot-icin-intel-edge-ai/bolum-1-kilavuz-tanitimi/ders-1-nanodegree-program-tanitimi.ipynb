{
 "cells": [
  {
   "cell_type": "markdown",
   "metadata": {},
   "source": [
    " Programa başlamadan önce Udacity Nanodegree programının tanıtımına ve programı nasıl başarıyla tamamlayacağımıza dair önerilere göz atacağız. Ayrıca yazılımsal gereksinimleri inceleyeceğiz."
   ]
  },
  {
   "cell_type": "markdown",
   "metadata": {},
   "source": [
    "## Udacity'e Merhaba"
   ]
  },
  {
   "cell_type": "markdown",
   "metadata": {},
   "source": [
    "[Youtube Video](https://youtu.be/9QadFJRKrEA)"
   ]
  },
  {
   "cell_type": "markdown",
   "metadata": {},
   "source": [
    "## Nanodegree Program Tecrübeleri"
   ]
  },
  {
   "cell_type": "markdown",
   "metadata": {},
   "source": [
    "[Youtube Video](https://youtu.be/gd0Z0S58Y68)"
   ]
  },
  {
   "cell_type": "markdown",
   "metadata": {},
   "source": [
    "## Başarıyla Tamamlamak için İpuçları"
   ]
  },
  {
   "cell_type": "markdown",
   "metadata": {},
   "source": [
    "[Youtube Video](https://youtu.be/hVwUijsLKzw)"
   ]
  },
  {
   "cell_type": "markdown",
   "metadata": {},
   "source": [
    "## Intel® Edge AI for IoT Developers Tanıtımı"
   ]
  },
  {
   "cell_type": "markdown",
   "metadata": {},
   "source": [
    " As we're here to learn Intel Edge AI features, we are assumed that we have a working knowledge of deep learning models and how to train and deploy them.\n",
    "Edge AI applications are used in real-time data processing cases that we should use AI models on local devices.\n",
    " Burada Intel Edge AI yapısını öğrenme amacıyla bulunduğumuz için, bu kılavuzu takip edenlerin Derin Öğrenme modelleri, bunları nasıl eğitebileceği ve deploy edeceğiyle ilgisi tecrübesinin olduğunun kabul edildiğini bilmemiz gerekiyor.\n",
    " Edge AI uygulamaları, yapay zeka modellerini yerel cihazda gerçek zamanlı veri işleme görevlerinde kullanılır."
   ]
  },
  {
   "cell_type": "markdown",
   "metadata": {},
   "source": [
    "## Önşartlar ve Diğer Gereksinimler"
   ]
  },
  {
   "cell_type": "markdown",
   "metadata": {},
   "source": [
    "### Önşartlar"
   ]
  },
  {
   "cell_type": "markdown",
   "metadata": {},
   "source": [
    "Bu kılavuzu açıkça anlayabilmek için, aşağıdaki konularda bilgimizin olması gerekiyor:\n",
    "- Ortalama seviyede Python programlama bilgisi\n",
    "- Derin Öğrenme modellerinin eğitimi ve deploy edilmesi bilgisi\n",
    "- Derin Öğrenme katmanları ve mimarileri (CNN tabanlı) hakkında bilgi birikimi\n",
    "- Komut satırı (bash terminal) bilgisi\n",
    "- OpenCV tecrübesi"
   ]
  },
  {
   "cell_type": "markdown",
   "metadata": {},
   "source": [
    "### Donanımsal & Yazılımsal Gereksinimler"
   ]
  },
  {
   "cell_type": "markdown",
   "metadata": {},
   "source": [
    "Please review the requirements to make sure you have what you need to complete this tutorial:\n",
    "\n",
    "- 64-bit, 6. veya daha yeni jenerasyon Intel işlemci kullanan, Windows 10, Ubuntu 18.04.3 LTS, veya macOS 10.13 veya üstü bir işletim sistemi.\n",
    "- Yerel ortamımızda kurulu [OpenVINO (version 2020.1)](https://docs.openvinotoolkit.org/2020.1/index.html). Bu gerekli bir araç.\n",
    "- [Intel Deep Learning Workbench (version 2020.1)](https://docs.openvinotoolkit.org/2020.1/_docs_Workbench_DG_Install_Workbench.html). DL Workbench şuanda Windows 10 Home Edition(June 2020)'u desteklemiyor. İşletim sistemimizi Windows 10 Professional'a yükseltmemiz veya Linux tabanlı bir sistem kullanmamız öneriliyor.\n",
    "- [Intel VTune Amplifier](https://software.intel.com/en-us/get-started-with-vtune).\n"
   ]
  },
  {
   "cell_type": "markdown",
   "metadata": {},
   "source": [
    "## Notebooklar and Workspaceler"
   ]
  },
  {
   "cell_type": "markdown",
   "metadata": {},
   "source": [
    "### Jupyter Notebooklar"
   ]
  },
  {
   "cell_type": "markdown",
   "metadata": {},
   "source": [
    "Bu kılavuzda Jupyter Notebook aracını kullanıyoruz. Bir notebook aslında açıklayıcı metin, matematiksel denklemler, kod ve görselleştirmelerin bir dökümanda tutulduğu bir web uygulaması."
   ]
  },
  {
   "cell_type": "markdown",
   "metadata": {},
   "source": [
    "Bu kılavuz da bir Jupyter Notebook."
   ]
  },
  {
   "cell_type": "markdown",
   "metadata": {},
   "source": [
    "#### Code hücreleri"
   ]
  },
  {
   "cell_type": "markdown",
   "metadata": {},
   "source": [
    "Notebook'ta bir hücreye kod yazabiliriz. Sonra o hücreyi çalıştırabiliriz. Genelde `Shift + Enter` kombinasyonunu kullanırız, ama üstteki `Run` butonunu da kullanabiliriz. Bir kod hücresini çalıştırdığımızda çıktısı hücrenin altında görülür.\n",
    "\n",
    "Herhangi bir hücrenin tipini `Code` hücresi veya `Markdown` hücresi olarak değiştirebiliriz."
   ]
  },
  {
   "cell_type": "markdown",
   "metadata": {},
   "source": [
    "#### Markdown hücreleri"
   ]
  },
  {
   "cell_type": "markdown",
   "metadata": {},
   "source": [
    "[Markdown](https://www.markdownguide.org/) hücreleri açıklamaları, görselleri, denklemleri göstermek gibi amaçlarla kullanılır. Markdown'ı hücrelerdeki metini biçimlendirmek için kullanabiliriz."
   ]
  },
  {
   "cell_type": "markdown",
   "metadata": {},
   "source": [
    "### Workspaceler"
   ]
  },
  {
   "cell_type": "markdown",
   "metadata": {},
   "source": [
    "In this tutorial, we'll run Jupyter Notebooks, so we can install [Anaconda distribution](https://www.anaconda.com/) on our computer or open our notebook on [Goole Colab](https://colab.research.google.com/)."
   ]
  },
  {
   "cell_type": "markdown",
   "metadata": {},
   "source": [
    "Bu kılavuzda, Jupyter Notebook'ları kullanacağız, bunun için [Anaconda distribution](https://www.anaconda.com/)'u kurabiliriz veya notebook'umuzu [Goole Colab](https://colab.research.google.com/) üzerinden açabiliriz."
   ]
  },
  {
   "cell_type": "markdown",
   "metadata": {},
   "source": [
    "## Graffiti Kılavuzu"
   ]
  },
  {
   "cell_type": "markdown",
   "metadata": {},
   "source": [
    " Jupyter Graffiti [burada](https://blog.udacity.com/2019/04/interactive-screencasts-jupyter-graffiti-c-plus-plus-nanodegree.html) tanıtılıyor."
   ]
  }
 ],
 "metadata": {
  "kernelspec": {
   "display_name": "Python 3",
   "language": "python",
   "name": "python3"
  },
  "language_info": {
   "codemirror_mode": {
    "name": "ipython",
    "version": 3
   },
   "file_extension": ".py",
   "mimetype": "text/x-python",
   "name": "python",
   "nbconvert_exporter": "python",
   "pygments_lexer": "ipython3",
   "version": "3.7.6"
  }
 },
 "nbformat": 4,
 "nbformat_minor": 2
}
