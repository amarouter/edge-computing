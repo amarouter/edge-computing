{
 "cells": [
  {
   "cell_type": "markdown",
   "metadata": {},
   "source": [
    "Fare imlecini bakışlarımızla kontrol edebilmek için bir makinede OpenVINO Toolkit yardımıyla birden fazla modeli aynı anda çalıştırma yeteneğimizi göstereceğiz."
   ]
  },
  {
   "cell_type": "markdown",
   "metadata": {},
   "source": [
    "## Proje Tanıtımı"
   ]
  },
  {
   "cell_type": "markdown",
   "metadata": {},
   "source": [
    "[Youtube Video](https://youtu.be/pDGPJJVS2jE)"
   ]
  },
  {
   "cell_type": "markdown",
   "metadata": {},
   "source": [
    "Bu projede bilgisayarımızdaki fare imlecini bakışlarımızla kontrol edebilmek için bakış tespiti modelini(gaze detection model) kullanacağız. Kullanıcının bakışlarını keşfetmek ve fare imlecini ona göre ayarlamak için [Gaze Estimation](https://docs.openvinotoolkit.org/latest/_models_intel_gaze_estimation_adas_0002_description_gaze_estimation_adas_0002.html) modeli kullanacağız. Birden çok modeli aynı makinede çalıştırmakla kalmayıp bu modeller arasındaki veri akışını da koordine edeceğiz."
   ]
  },
  {
   "cell_type": "markdown",
   "metadata": {},
   "source": [
    "### Çalışma Prensibi"
   ]
  },
  {
   "cell_type": "markdown",
   "metadata": {},
   "source": [
    "Intel'in OpenVino ToolKit'inde bulunan InferenceEngine API'ı kullanarak projeyi geliştireceğiz."
   ]
  },
  {
   "cell_type": "markdown",
   "metadata": {},
   "source": [
    "**gaze estimation** model üç girdi alıyor:\n",
    "1. Kafa pozu\n",
    "2. Sol göz görüntüsü\n",
    "3. Sağ göz görüntüsü"
   ]
  },
  {
   "cell_type": "markdown",
   "metadata": {},
   "source": [
    "Bu girdileri alabilmek için aşağıdaki üç modeli kullanmamız gerekir:\n",
    "1. [Face Detection](https://docs.openvinotoolkit.org/latest/_models_intel_face_detection_adas_binary_0001_description_face_detection_adas_binary_0001.html)\n",
    "2. [Head Pose Estimation](https://docs.openvinotoolkit.org/latest/_models_intel_head_pose_estimation_adas_0001_description_head_pose_estimation_adas_0001.html)\n",
    "3. [Facial Landmarks Detection](https://docs.openvinotoolkit.org/latest/_models_intel_landmarks_regression_retail_0009_description_landmarks_regression_retail_0009.html)"
   ]
  },
  {
   "cell_type": "markdown",
   "metadata": {},
   "source": [
    "### The Pipeline (Ardışık Düzen, Veri Hattı)"
   ]
  },
  {
   "cell_type": "markdown",
   "metadata": {},
   "source": [
    "Girdiden gelen verinin akışının, farklı modeller arasındaki iletişimin ve bunların fare imleci ile arasındaki bağlantının koordinasyonunu sağlamamız gerekiyor. "
   ]
  },
  {
   "cell_type": "markdown",
   "metadata": {},
   "source": [
    "Verinin akışı şemadaki gibi olacak:\n",
    "![Pipeline](https://video.udacity-data.com/topher/2020/April/5e923081_pipeline/pipeline.png)"
   ]
  },
  {
   "cell_type": "markdown",
   "metadata": {},
   "source": [
    "Akışı inşa ederken her bir modelin girdi ve çıktılarının shape'lerinin farkında olmamız gerekiyor. Eğer belirli bir modelin shape'leri ve veri formatı farklıysa, önişleme metodları arasında bunu da hesaba katarız."
   ]
  },
  {
   "cell_type": "markdown",
   "metadata": {},
   "source": [
    "#### Faydalı Kaynaklar:\n",
    "- [Inference Engine API Docs](https://docs.openvinotoolkit.org/latest/_inference_engine_ie_bridges_python_docs_api_overview.html)\n",
    "- [Model Documentation](https://docs.openvinotoolkit.org/latest/_models_intel_index.html)"
   ]
  }
 ],
 "metadata": {
  "kernelspec": {
   "display_name": "Python 3",
   "language": "python",
   "name": "python3"
  },
  "language_info": {
   "codemirror_mode": {
    "name": "ipython",
    "version": 3
   },
   "file_extension": ".py",
   "mimetype": "text/x-python",
   "name": "python",
   "nbconvert_exporter": "python",
   "pygments_lexer": "ipython3",
   "version": "3.7.6"
  }
 },
 "nbformat": 4,
 "nbformat_minor": 4
}
